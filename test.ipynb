{
 "cells": [
  {
   "cell_type": "code",
   "execution_count": 1,
   "metadata": {
    "collapsed": true
   },
   "outputs": [
    {
     "name": "stdout",
     "output_type": "stream",
     "text": [
      "pygame 2.1.2 (SDL 2.0.18, Python 3.9.12)\n",
      "Hello from the pygame community. https://www.pygame.org/contribute.html\n"
     ]
    }
   ],
   "source": [
    "import cv2\n",
    "import numpy as np\n",
    "\n",
    "from VoltricDP.Preprocess import ColorMask\n",
    "\n",
    "\n",
    "class TransformPos(object):\n",
    "\n",
    "    def __init__(self):\n",
    "        None\n",
    "\n",
    "vid = cv2.VideoCapture(1)"
   ]
  },
  {
   "cell_type": "code",
   "execution_count": null,
   "outputs": [],
   "source": [
    "# Webcam & Canvas Dim\n",
    "width = 1280\n",
    "height = 720\n",
    "\n",
    "# Define Color range in HSV\n",
    "color = np.uint8([[[128, 0, 128]]])  # in rgb\n",
    "hsvGreen = cv2.cvtColor(color, cv2.COLOR_RGB2HSV)\n",
    "lower = hsvGreen[0][0][0] - 30, 127, 127\n",
    "upper = hsvGreen[0][0][0] + 30, 255, 255\n",
    "\n",
    "noise = (20, 20)\n",
    "turd = (20, 20)\n",
    "\n",
    "# Webcam/Any Input Feed\n",
    "\n",
    "vid.set(cv2.CAP_PROP_FRAME_WIDTH, width)\n",
    "vid.set(cv2.CAP_PROP_FRAME_HEIGHT, height)\n",
    "\n",
    "# Function for frame\n",
    "get_frame = lambda: cv2.flip(vid.read()[1], 1)\n",
    "\n",
    "# Initialize Preprocessor for Input\n",
    "CM = ColorMask(lower, upper, kernel_noise=noise, kernel_turd=turd)\n",
    "sample = get_frame()\n",
    "sample = np.zeros_like(sample)\n",
    "\n",
    "background = cv2.cvtColor(sample, cv2.COLOR_BGR2GRAY)\n",
    "background = np.full_like(background, 255)\n",
    "\n",
    "sample = cv2.line(sample, (0, height - 11), (width - 1, height - 11),\n",
    "                  color=[128, 0, 128], thickness=20)\n",
    "\n",
    "corners = np.float32([[0, 0], [0, height - 1], [width - 1, 0], [width - 1, height - 1]])\n",
    "field = np.float32([[200, 200], [200, height - 201], [width - 201, 200], [width - 201, height - 201]])\n",
    "\n",
    "h = cv2.getPerspectiveTransform(field, corners)\n",
    "\n",
    "cv2.namedWindow(\"window\", cv2.WND_PROP_FULLSCREEN)\n",
    "cv2.setWindowProperty(\"window\", cv2.WND_PROP_FULLSCREEN, cv2.WINDOW_FULLSCREEN)\n",
    "\n",
    "while True:\n",
    "\n",
    "    cv2.waitKey(1000 // 30)\n",
    "    frame = get_frame()\n",
    "    # backup = frame.copy()\n",
    "    mask = CM.get_mask(frame)\n",
    "    res = cv2.bitwise_and(background, background, mask=mask)\n",
    "\n",
    "    cols = res.shape[1] // 30\n",
    "    horizontalStructure = cv2.getStructuringElement(cv2.MORPH_RECT, (cols, 1))\n",
    "    horizontal = cv2.erode(res, horizontalStructure)\n",
    "    horizontal = cv2.dilate(horizontal, horizontalStructure)\n",
    "\n",
    "    contours, centers = CM.get_cc(horizontal)\n",
    "    # print(contours)\n",
    "    centers = np.float32(np.array(centers))\n",
    "    centers = np.expand_dims(centers, axis=1)\n",
    "    # pts = np.float32(np.array([[[1920, 1280]]]))\n",
    "    canvas = sample.copy()\n",
    "\n",
    "    if len(centers) > 0:\n",
    "        abs_axis = cv2.perspectiveTransform(centers, h)\n",
    "        for pp in abs_axis:\n",
    "            print(tuple(pp[0].astype(int)))\n",
    "            canvas = cv2.circle(canvas, tuple(pp[0].astype(int)), radius=30, color=(0, 0, 255), thickness=-1)\n",
    "    # cv2.drawContours(canvas,contours, -1, (0, 255, 0), 10)\n",
    "    else:\n",
    "        # print('empty')\n",
    "        None\n",
    "    cv2.imshow('vid', frame)\n",
    "    cv2.imshow('mask', mask)\n",
    "    cv2.imshow('window', canvas)"
   ],
   "metadata": {
    "collapsed": false,
    "pycharm": {
     "name": "#%%\n",
     "is_executing": true
    }
   }
  },
  {
   "cell_type": "code",
   "execution_count": null,
   "outputs": [],
   "source": [],
   "metadata": {
    "collapsed": false,
    "pycharm": {
     "name": "#%%\n"
    }
   }
  }
 ],
 "metadata": {
  "kernelspec": {
   "display_name": "Python 3",
   "language": "python",
   "name": "python3"
  },
  "language_info": {
   "codemirror_mode": {
    "name": "ipython",
    "version": 2
   },
   "file_extension": ".py",
   "mimetype": "text/x-python",
   "name": "python",
   "nbconvert_exporter": "python",
   "pygments_lexer": "ipython2",
   "version": "2.7.6"
  }
 },
 "nbformat": 4,
 "nbformat_minor": 0
}